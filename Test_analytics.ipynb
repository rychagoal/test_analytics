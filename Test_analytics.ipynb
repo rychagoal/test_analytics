{
 "cells": [
  {
   "cell_type": "code",
   "execution_count": 93,
   "id": "58de7d4a-d659-45d6-bd3e-5442fbd3b853",
   "metadata": {},
   "outputs": [],
   "source": [
    "import pandas as pd\n",
    "import matplotlib.pyplot as plt\n",
    "import seaborn as sns"
   ]
  },
  {
   "cell_type": "code",
   "execution_count": 3,
   "id": "20dfab31-4eb9-45ef-8650-ca5be82d1340",
   "metadata": {},
   "outputs": [],
   "source": [
    "data = pd.read_csv(\"data.csv\")"
   ]
  },
  {
   "cell_type": "code",
   "execution_count": 4,
   "id": "223af0cd-420b-4b76-9bc5-9ba839e13b82",
   "metadata": {},
   "outputs": [
    {
     "data": {
      "text/html": [
       "<div>\n",
       "<style scoped>\n",
       "    .dataframe tbody tr th:only-of-type {\n",
       "        vertical-align: middle;\n",
       "    }\n",
       "\n",
       "    .dataframe tbody tr th {\n",
       "        vertical-align: top;\n",
       "    }\n",
       "\n",
       "    .dataframe thead th {\n",
       "        text-align: right;\n",
       "    }\n",
       "</style>\n",
       "<table border=\"1\" class=\"dataframe\">\n",
       "  <thead>\n",
       "    <tr style=\"text-align: right;\">\n",
       "      <th></th>\n",
       "      <th>event_id</th>\n",
       "      <th>event_date</th>\n",
       "      <th>customer_id</th>\n",
       "      <th>is_attend</th>\n",
       "      <th>group_ids</th>\n",
       "      <th>teacher_ids</th>\n",
       "      <th>attendance_id</th>\n",
       "    </tr>\n",
       "  </thead>\n",
       "  <tbody>\n",
       "    <tr>\n",
       "      <th>0</th>\n",
       "      <td>5</td>\n",
       "      <td>2020-05-22</td>\n",
       "      <td>47</td>\n",
       "      <td>1</td>\n",
       "      <td>2</td>\n",
       "      <td>6</td>\n",
       "      <td>12</td>\n",
       "    </tr>\n",
       "    <tr>\n",
       "      <th>1</th>\n",
       "      <td>15</td>\n",
       "      <td>2020-06-03</td>\n",
       "      <td>354</td>\n",
       "      <td>1</td>\n",
       "      <td>5</td>\n",
       "      <td>4</td>\n",
       "      <td>57</td>\n",
       "    </tr>\n",
       "    <tr>\n",
       "      <th>2</th>\n",
       "      <td>34</td>\n",
       "      <td>2020-06-17</td>\n",
       "      <td>183</td>\n",
       "      <td>1</td>\n",
       "      <td>5</td>\n",
       "      <td>4</td>\n",
       "      <td>158</td>\n",
       "    </tr>\n",
       "    <tr>\n",
       "      <th>3</th>\n",
       "      <td>22</td>\n",
       "      <td>2020-06-11</td>\n",
       "      <td>12</td>\n",
       "      <td>1</td>\n",
       "      <td>1</td>\n",
       "      <td>3</td>\n",
       "      <td>95</td>\n",
       "    </tr>\n",
       "    <tr>\n",
       "      <th>4</th>\n",
       "      <td>36</td>\n",
       "      <td>2020-06-19</td>\n",
       "      <td>260</td>\n",
       "      <td>1</td>\n",
       "      <td>5</td>\n",
       "      <td>4</td>\n",
       "      <td>185</td>\n",
       "    </tr>\n",
       "    <tr>\n",
       "      <th>5</th>\n",
       "      <td>3</td>\n",
       "      <td>2020-05-21</td>\n",
       "      <td>197</td>\n",
       "      <td>1</td>\n",
       "      <td>1</td>\n",
       "      <td>3</td>\n",
       "      <td>5</td>\n",
       "    </tr>\n",
       "    <tr>\n",
       "      <th>6</th>\n",
       "      <td>30</td>\n",
       "      <td>2020-06-18</td>\n",
       "      <td>419</td>\n",
       "      <td>1</td>\n",
       "      <td>3</td>\n",
       "      <td>5</td>\n",
       "      <td>165</td>\n",
       "    </tr>\n",
       "    <tr>\n",
       "      <th>7</th>\n",
       "      <td>8</td>\n",
       "      <td>2020-05-26</td>\n",
       "      <td>47</td>\n",
       "      <td>1</td>\n",
       "      <td>2</td>\n",
       "      <td>6</td>\n",
       "      <td>24</td>\n",
       "    </tr>\n",
       "    <tr>\n",
       "      <th>8</th>\n",
       "      <td>25</td>\n",
       "      <td>2020-06-10</td>\n",
       "      <td>401</td>\n",
       "      <td>1</td>\n",
       "      <td>5</td>\n",
       "      <td>4</td>\n",
       "      <td>108</td>\n",
       "    </tr>\n",
       "    <tr>\n",
       "      <th>9</th>\n",
       "      <td>34</td>\n",
       "      <td>2020-06-17</td>\n",
       "      <td>354</td>\n",
       "      <td>1</td>\n",
       "      <td>5</td>\n",
       "      <td>4</td>\n",
       "      <td>159</td>\n",
       "    </tr>\n",
       "  </tbody>\n",
       "</table>\n",
       "</div>"
      ],
      "text/plain": [
       "   event_id  event_date  customer_id  is_attend  group_ids  teacher_ids  \\\n",
       "0         5  2020-05-22           47          1          2            6   \n",
       "1        15  2020-06-03          354          1          5            4   \n",
       "2        34  2020-06-17          183          1          5            4   \n",
       "3        22  2020-06-11           12          1          1            3   \n",
       "4        36  2020-06-19          260          1          5            4   \n",
       "5         3  2020-05-21          197          1          1            3   \n",
       "6        30  2020-06-18          419          1          3            5   \n",
       "7         8  2020-05-26           47          1          2            6   \n",
       "8        25  2020-06-10          401          1          5            4   \n",
       "9        34  2020-06-17          354          1          5            4   \n",
       "\n",
       "   attendance_id  \n",
       "0             12  \n",
       "1             57  \n",
       "2            158  \n",
       "3             95  \n",
       "4            185  \n",
       "5              5  \n",
       "6            165  \n",
       "7             24  \n",
       "8            108  \n",
       "9            159  "
      ]
     },
     "execution_count": 4,
     "metadata": {},
     "output_type": "execute_result"
    }
   ],
   "source": [
    "data.head(10)"
   ]
  },
  {
   "cell_type": "markdown",
   "id": "d53e2e0b-7157-45bd-873a-36f4eff16fe6",
   "metadata": {},
   "source": [
    "### Проведем разведовательный анализ данных и проверим на целостность данные"
   ]
  },
  {
   "cell_type": "code",
   "execution_count": null,
   "id": "86d42eb7-8674-4972-a162-3b6c4f01dfd5",
   "metadata": {},
   "outputs": [],
   "source": [
    "# проверим есть ли пустые знаения"
   ]
  },
  {
   "cell_type": "code",
   "execution_count": 5,
   "id": "a51a2858-874a-4f6d-9eaa-0c6b8b91957d",
   "metadata": {},
   "outputs": [
    {
     "data": {
      "text/plain": [
       "(320, 7)"
      ]
     },
     "execution_count": 5,
     "metadata": {},
     "output_type": "execute_result"
    }
   ],
   "source": [
    "data.shape"
   ]
  },
  {
   "cell_type": "code",
   "execution_count": 6,
   "id": "8b50bd93-995e-4d75-a839-bf1d87bf1924",
   "metadata": {},
   "outputs": [
    {
     "data": {
      "text/plain": [
       "array([False, False, False, False, False, False, False])"
      ]
     },
     "execution_count": 6,
     "metadata": {},
     "output_type": "execute_result"
    }
   ],
   "source": [
    "# пропущенных и пустых значений нет в таблице\n",
    "data.columns.isna()"
   ]
  },
  {
   "cell_type": "code",
   "execution_count": 7,
   "id": "c7fa7772-03db-4cc4-9a75-1c2f173499f0",
   "metadata": {},
   "outputs": [],
   "source": [
    "attend = data[data[\"is_attend\"] == 1][\"event_id\"].count()"
   ]
  },
  {
   "cell_type": "code",
   "execution_count": 8,
   "id": "eeeeeaac-6f49-4dfb-b293-ada6b145b702",
   "metadata": {},
   "outputs": [],
   "source": [
    "not_attend = data[data[\"is_attend\"] == 0][\"event_id\"].count()"
   ]
  },
  {
   "cell_type": "code",
   "execution_count": 9,
   "id": "0fd9087f-812a-4056-9a50-484947013da4",
   "metadata": {},
   "outputs": [
    {
     "data": {
      "text/plain": [
       "82.5"
      ]
     },
     "execution_count": 9,
     "metadata": {},
     "output_type": "execute_result"
    }
   ],
   "source": [
    "# % посещенных занятий в целом\n",
    "(attend / (data[\"event_id\"].count())) * 100"
   ]
  },
  {
   "cell_type": "code",
   "execution_count": 11,
   "id": "988bae2e-871b-4de5-9053-5e71fa91ae3d",
   "metadata": {},
   "outputs": [],
   "source": [
    "# Группировка по event_id и подсчёт присутствующих/отсутствующих учеников\n",
    "result = data.groupby('event_id')['is_attend'].agg(\n",
    "    present_count=lambda x: (x == 1).sum(),\n",
    "    absent_count=lambda x: (x == 0).sum()\n",
    ").reset_index()"
   ]
  },
  {
   "cell_type": "code",
   "execution_count": 12,
   "id": "4dbae84f-793e-4273-b363-aa2591a2ca0f",
   "metadata": {},
   "outputs": [
    {
     "data": {
      "text/html": [
       "<div>\n",
       "<style scoped>\n",
       "    .dataframe tbody tr th:only-of-type {\n",
       "        vertical-align: middle;\n",
       "    }\n",
       "\n",
       "    .dataframe tbody tr th {\n",
       "        vertical-align: top;\n",
       "    }\n",
       "\n",
       "    .dataframe thead th {\n",
       "        text-align: right;\n",
       "    }\n",
       "</style>\n",
       "<table border=\"1\" class=\"dataframe\">\n",
       "  <thead>\n",
       "    <tr style=\"text-align: right;\">\n",
       "      <th></th>\n",
       "      <th>event_id</th>\n",
       "      <th>present_count</th>\n",
       "      <th>absent_count</th>\n",
       "    </tr>\n",
       "  </thead>\n",
       "  <tbody>\n",
       "    <tr>\n",
       "      <th>0</th>\n",
       "      <td>3</td>\n",
       "      <td>4</td>\n",
       "      <td>0</td>\n",
       "    </tr>\n",
       "    <tr>\n",
       "      <th>1</th>\n",
       "      <td>4</td>\n",
       "      <td>4</td>\n",
       "      <td>0</td>\n",
       "    </tr>\n",
       "    <tr>\n",
       "      <th>2</th>\n",
       "      <td>5</td>\n",
       "      <td>4</td>\n",
       "      <td>0</td>\n",
       "    </tr>\n",
       "    <tr>\n",
       "      <th>3</th>\n",
       "      <td>6</td>\n",
       "      <td>4</td>\n",
       "      <td>0</td>\n",
       "    </tr>\n",
       "    <tr>\n",
       "      <th>4</th>\n",
       "      <td>7</td>\n",
       "      <td>3</td>\n",
       "      <td>1</td>\n",
       "    </tr>\n",
       "    <tr>\n",
       "      <th>...</th>\n",
       "      <td>...</td>\n",
       "      <td>...</td>\n",
       "      <td>...</td>\n",
       "    </tr>\n",
       "    <tr>\n",
       "      <th>57</th>\n",
       "      <td>63</td>\n",
       "      <td>4</td>\n",
       "      <td>0</td>\n",
       "    </tr>\n",
       "    <tr>\n",
       "      <th>58</th>\n",
       "      <td>64</td>\n",
       "      <td>3</td>\n",
       "      <td>0</td>\n",
       "    </tr>\n",
       "    <tr>\n",
       "      <th>59</th>\n",
       "      <td>65</td>\n",
       "      <td>3</td>\n",
       "      <td>0</td>\n",
       "    </tr>\n",
       "    <tr>\n",
       "      <th>60</th>\n",
       "      <td>66</td>\n",
       "      <td>1</td>\n",
       "      <td>1</td>\n",
       "    </tr>\n",
       "    <tr>\n",
       "      <th>61</th>\n",
       "      <td>67</td>\n",
       "      <td>2</td>\n",
       "      <td>1</td>\n",
       "    </tr>\n",
       "  </tbody>\n",
       "</table>\n",
       "<p>62 rows × 3 columns</p>\n",
       "</div>"
      ],
      "text/plain": [
       "    event_id  present_count  absent_count\n",
       "0          3              4             0\n",
       "1          4              4             0\n",
       "2          5              4             0\n",
       "3          6              4             0\n",
       "4          7              3             1\n",
       "..       ...            ...           ...\n",
       "57        63              4             0\n",
       "58        64              3             0\n",
       "59        65              3             0\n",
       "60        66              1             1\n",
       "61        67              2             1\n",
       "\n",
       "[62 rows x 3 columns]"
      ]
     },
     "execution_count": 12,
     "metadata": {},
     "output_type": "execute_result"
    }
   ],
   "source": [
    "result"
   ]
  },
  {
   "cell_type": "code",
   "execution_count": 44,
   "id": "cc7c8daf-3139-42b8-8c7f-5ef2af916d81",
   "metadata": {},
   "outputs": [],
   "source": [
    "result = data.groupby('event_id').agg(\n",
    "    event_date=('event_date', 'first'),  # Assuming the same date for each event\n",
    "    group_ids=('group_ids', 'first'),  # Unique group IDs\n",
    "    teacher_ids=('teacher_ids', 'first'),  # Unique teacher IDs\n",
    "    present_count=('is_attend', lambda x: (x == 1).sum()),  # Count of students present\n",
    "    absent_count=('is_attend', lambda x: (x == 0).sum())  # Count of students absent\n",
    ").reset_index()"
   ]
  },
  {
   "cell_type": "code",
   "execution_count": 14,
   "id": "56798dad-ba21-422c-8aaf-7d4b45c2c6f0",
   "metadata": {},
   "outputs": [
    {
     "data": {
      "text/html": [
       "<div>\n",
       "<style scoped>\n",
       "    .dataframe tbody tr th:only-of-type {\n",
       "        vertical-align: middle;\n",
       "    }\n",
       "\n",
       "    .dataframe tbody tr th {\n",
       "        vertical-align: top;\n",
       "    }\n",
       "\n",
       "    .dataframe thead th {\n",
       "        text-align: right;\n",
       "    }\n",
       "</style>\n",
       "<table border=\"1\" class=\"dataframe\">\n",
       "  <thead>\n",
       "    <tr style=\"text-align: right;\">\n",
       "      <th></th>\n",
       "      <th>event_id</th>\n",
       "      <th>event_date</th>\n",
       "      <th>group_ids</th>\n",
       "      <th>teacher_ids</th>\n",
       "      <th>present_count</th>\n",
       "      <th>absent_count</th>\n",
       "    </tr>\n",
       "  </thead>\n",
       "  <tbody>\n",
       "    <tr>\n",
       "      <th>0</th>\n",
       "      <td>3</td>\n",
       "      <td>2020-05-21</td>\n",
       "      <td>1</td>\n",
       "      <td>3</td>\n",
       "      <td>4</td>\n",
       "      <td>0</td>\n",
       "    </tr>\n",
       "    <tr>\n",
       "      <th>1</th>\n",
       "      <td>4</td>\n",
       "      <td>2020-05-21</td>\n",
       "      <td>3</td>\n",
       "      <td>5</td>\n",
       "      <td>4</td>\n",
       "      <td>0</td>\n",
       "    </tr>\n",
       "    <tr>\n",
       "      <th>2</th>\n",
       "      <td>5</td>\n",
       "      <td>2020-05-22</td>\n",
       "      <td>2</td>\n",
       "      <td>6</td>\n",
       "      <td>4</td>\n",
       "      <td>0</td>\n",
       "    </tr>\n",
       "    <tr>\n",
       "      <th>3</th>\n",
       "      <td>6</td>\n",
       "      <td>2020-05-23</td>\n",
       "      <td>1</td>\n",
       "      <td>3</td>\n",
       "      <td>4</td>\n",
       "      <td>0</td>\n",
       "    </tr>\n",
       "    <tr>\n",
       "      <th>4</th>\n",
       "      <td>7</td>\n",
       "      <td>2020-05-25</td>\n",
       "      <td>3</td>\n",
       "      <td>5</td>\n",
       "      <td>3</td>\n",
       "      <td>1</td>\n",
       "    </tr>\n",
       "    <tr>\n",
       "      <th>...</th>\n",
       "      <td>...</td>\n",
       "      <td>...</td>\n",
       "      <td>...</td>\n",
       "      <td>...</td>\n",
       "      <td>...</td>\n",
       "      <td>...</td>\n",
       "    </tr>\n",
       "    <tr>\n",
       "      <th>57</th>\n",
       "      <td>63</td>\n",
       "      <td>2020-07-09</td>\n",
       "      <td>3</td>\n",
       "      <td>5</td>\n",
       "      <td>4</td>\n",
       "      <td>0</td>\n",
       "    </tr>\n",
       "    <tr>\n",
       "      <th>58</th>\n",
       "      <td>64</td>\n",
       "      <td>2020-07-15</td>\n",
       "      <td>2</td>\n",
       "      <td>6</td>\n",
       "      <td>3</td>\n",
       "      <td>0</td>\n",
       "    </tr>\n",
       "    <tr>\n",
       "      <th>59</th>\n",
       "      <td>65</td>\n",
       "      <td>2020-07-14</td>\n",
       "      <td>3</td>\n",
       "      <td>5</td>\n",
       "      <td>3</td>\n",
       "      <td>0</td>\n",
       "    </tr>\n",
       "    <tr>\n",
       "      <th>60</th>\n",
       "      <td>66</td>\n",
       "      <td>2020-07-14</td>\n",
       "      <td>1</td>\n",
       "      <td>3</td>\n",
       "      <td>1</td>\n",
       "      <td>1</td>\n",
       "    </tr>\n",
       "    <tr>\n",
       "      <th>61</th>\n",
       "      <td>67</td>\n",
       "      <td>2020-07-16</td>\n",
       "      <td>3</td>\n",
       "      <td>5</td>\n",
       "      <td>2</td>\n",
       "      <td>1</td>\n",
       "    </tr>\n",
       "  </tbody>\n",
       "</table>\n",
       "<p>62 rows × 6 columns</p>\n",
       "</div>"
      ],
      "text/plain": [
       "    event_id  event_date  group_ids  teacher_ids  present_count  absent_count\n",
       "0          3  2020-05-21          1            3              4             0\n",
       "1          4  2020-05-21          3            5              4             0\n",
       "2          5  2020-05-22          2            6              4             0\n",
       "3          6  2020-05-23          1            3              4             0\n",
       "4          7  2020-05-25          3            5              3             1\n",
       "..       ...         ...        ...          ...            ...           ...\n",
       "57        63  2020-07-09          3            5              4             0\n",
       "58        64  2020-07-15          2            6              3             0\n",
       "59        65  2020-07-14          3            5              3             0\n",
       "60        66  2020-07-14          1            3              1             1\n",
       "61        67  2020-07-16          3            5              2             1\n",
       "\n",
       "[62 rows x 6 columns]"
      ]
     },
     "execution_count": 14,
     "metadata": {},
     "output_type": "execute_result"
    }
   ],
   "source": [
    "result"
   ]
  },
  {
   "cell_type": "code",
   "execution_count": 45,
   "id": "e696bf16-a598-4ba7-bc06-6704a0776b27",
   "metadata": {},
   "outputs": [],
   "source": [
    "result['attendance_percentage'] = round(((result['present_count'] / (result['present_count'] + result['absent_count'])) * 100), 2)"
   ]
  },
  {
   "cell_type": "code",
   "execution_count": 46,
   "id": "c7612566-f438-415e-9a15-ee4109ef8e54",
   "metadata": {},
   "outputs": [],
   "source": [
    "sorted_result = result.sort_values(by=\"attendance_percentage\", ascending=True)"
   ]
  },
  {
   "cell_type": "code",
   "execution_count": 23,
   "id": "1090db05-5855-4fdc-8f73-3ba3d8f6e97c",
   "metadata": {},
   "outputs": [],
   "source": [
    "sorted_result.to_csv(\"attend_percentage.csv\")"
   ]
  },
  {
   "cell_type": "markdown",
   "id": "82f986bc-0d39-4f3c-a381-be56d47976d5",
   "metadata": {},
   "source": [
    "### Найдем учителей, занятия которых посещало меньше 75% учеников, а также какой процент \"не удачных\" занятий было у данного преподавателя."
   ]
  },
  {
   "cell_type": "code",
   "execution_count": 38,
   "id": "d02e9622-72cb-4991-93f3-58cbe0ab7512",
   "metadata": {},
   "outputs": [
    {
     "data": {
      "text/plain": [
       "array([3, 5, 6, 4, 7])"
      ]
     },
     "execution_count": 38,
     "metadata": {},
     "output_type": "execute_result"
    }
   ],
   "source": [
    "# Посмотрим сколько учителей в целом у нас работает и выведем их ID\n",
    "result[\"teacher_ids\"].unique()"
   ]
  },
  {
   "cell_type": "code",
   "execution_count": 41,
   "id": "372d3815-49aa-44f2-bf3c-4696d29a2d11",
   "metadata": {},
   "outputs": [
    {
     "data": {
      "text/plain": [
       "array([3, 6, 4, 7, 5])"
      ]
     },
     "execution_count": 41,
     "metadata": {},
     "output_type": "execute_result"
    }
   ],
   "source": [
    "# Выведем ID учителей, у которых были пропуски учеников, на их занятиях присутствовало менее 75 % учеников\n",
    "sorted_result[sorted_result[\"attendance_percentage\"] < 75][\"teacher_ids\"].unique()"
   ]
  },
  {
   "cell_type": "code",
   "execution_count": 39,
   "id": "05ccdb7b-a7ef-4c35-85e5-21eb5b751f1d",
   "metadata": {},
   "outputs": [
    {
     "data": {
      "text/plain": [
       "array([3, 6])"
      ]
     },
     "execution_count": 39,
     "metadata": {},
     "output_type": "execute_result"
    }
   ],
   "source": [
    "# Выведем ID учителей, у которых были пропуски учеников, на их занятиях присутствовало менее 50 % учеников\n",
    "sorted_result[sorted_result[\"attendance_percentage\"] < 50][\"teacher_ids\"].unique()"
   ]
  },
  {
   "cell_type": "code",
   "execution_count": 47,
   "id": "fd730e44-1adc-4eb7-9a44-50c6b9e7cd3f",
   "metadata": {},
   "outputs": [],
   "source": [
    "# Посчитаем % уроков с низкой посещаемостью (менее 75%) у учителей\n",
    "low_attendance_lessons_per_teacher = result[result[\"attendance_percentage\"] < 75].explode(\"teacher_ids\").groupby(\"teacher_ids\")[\"event_id\"].nunique()"
   ]
  },
  {
   "cell_type": "code",
   "execution_count": 122,
   "id": "3338066e-a79b-43e5-88b7-116b3be59cce",
   "metadata": {},
   "outputs": [],
   "source": [
    "total_lessons_per_teacher = result.explode(\"teacher_ids\").groupby(\"teacher_ids\")[\"event_id\"].nunique()\n",
    "teacher_low_attendance_percentage = (low_attendance_lessons_per_teacher / total_lessons_per_teacher * 100).fillna(0).round(2).reset_index()\n",
    "teacher_low_attendance_percentage.columns = [\"teacher_id\", \"low_attendance_percentage\"]"
   ]
  },
  {
   "cell_type": "code",
   "execution_count": 123,
   "id": "8892275a-7d53-4c13-b7c8-ddfd2eb58df6",
   "metadata": {},
   "outputs": [
    {
     "data": {
      "text/html": [
       "<div>\n",
       "<style scoped>\n",
       "    .dataframe tbody tr th:only-of-type {\n",
       "        vertical-align: middle;\n",
       "    }\n",
       "\n",
       "    .dataframe tbody tr th {\n",
       "        vertical-align: top;\n",
       "    }\n",
       "\n",
       "    .dataframe thead th {\n",
       "        text-align: right;\n",
       "    }\n",
       "</style>\n",
       "<table border=\"1\" class=\"dataframe\">\n",
       "  <thead>\n",
       "    <tr style=\"text-align: right;\">\n",
       "      <th></th>\n",
       "      <th>teacher_id</th>\n",
       "      <th>low_attendance_percentage</th>\n",
       "    </tr>\n",
       "  </thead>\n",
       "  <tbody>\n",
       "    <tr>\n",
       "      <th>0</th>\n",
       "      <td>3</td>\n",
       "      <td>35.29</td>\n",
       "    </tr>\n",
       "    <tr>\n",
       "      <th>1</th>\n",
       "      <td>4</td>\n",
       "      <td>33.33</td>\n",
       "    </tr>\n",
       "    <tr>\n",
       "      <th>2</th>\n",
       "      <td>5</td>\n",
       "      <td>6.25</td>\n",
       "    </tr>\n",
       "    <tr>\n",
       "      <th>3</th>\n",
       "      <td>6</td>\n",
       "      <td>9.09</td>\n",
       "    </tr>\n",
       "    <tr>\n",
       "      <th>4</th>\n",
       "      <td>7</td>\n",
       "      <td>33.33</td>\n",
       "    </tr>\n",
       "  </tbody>\n",
       "</table>\n",
       "</div>"
      ],
      "text/plain": [
       "   teacher_id  low_attendance_percentage\n",
       "0           3                      35.29\n",
       "1           4                      33.33\n",
       "2           5                       6.25\n",
       "3           6                       9.09\n",
       "4           7                      33.33"
      ]
     },
     "execution_count": 123,
     "metadata": {},
     "output_type": "execute_result"
    }
   ],
   "source": [
    "teacher_low_attendance_percentage"
   ]
  },
  {
   "cell_type": "code",
   "execution_count": 62,
   "id": "0487c719-523e-4feb-a599-b212167be581",
   "metadata": {},
   "outputs": [],
   "source": [
    "teacher_attendance_stats = pd.DataFrame({\n",
    "    \"teacher_id\": total_lessons_per_teacher.index,\n",
    "    \"total_lessons\": total_lessons_per_teacher.values,\n",
    "    \"low_attendance_lessons\": low_attendance_lessons_per_teacher.reindex(total_lessons_per_teacher.index, fill_value=0).values,\n",
    "    \"low_attendance_pct\": (round(low_attendance_lessons_per_teacher / total_lessons_per_teacher * 100, 2)).fillna(0).values\n",
    "})"
   ]
  },
  {
   "cell_type": "code",
   "execution_count": 63,
   "id": "28f98cd7-f28d-4ed2-9ee1-945a2d883845",
   "metadata": {},
   "outputs": [
    {
     "data": {
      "text/html": [
       "<div>\n",
       "<style scoped>\n",
       "    .dataframe tbody tr th:only-of-type {\n",
       "        vertical-align: middle;\n",
       "    }\n",
       "\n",
       "    .dataframe tbody tr th {\n",
       "        vertical-align: top;\n",
       "    }\n",
       "\n",
       "    .dataframe thead th {\n",
       "        text-align: right;\n",
       "    }\n",
       "</style>\n",
       "<table border=\"1\" class=\"dataframe\">\n",
       "  <thead>\n",
       "    <tr style=\"text-align: right;\">\n",
       "      <th></th>\n",
       "      <th>teacher_id</th>\n",
       "      <th>total_lessons</th>\n",
       "      <th>low_attendance_lessons</th>\n",
       "      <th>low_attendance_pct</th>\n",
       "    </tr>\n",
       "  </thead>\n",
       "  <tbody>\n",
       "    <tr>\n",
       "      <th>0</th>\n",
       "      <td>3</td>\n",
       "      <td>17</td>\n",
       "      <td>6</td>\n",
       "      <td>35.29</td>\n",
       "    </tr>\n",
       "    <tr>\n",
       "      <th>1</th>\n",
       "      <td>4</td>\n",
       "      <td>15</td>\n",
       "      <td>5</td>\n",
       "      <td>33.33</td>\n",
       "    </tr>\n",
       "    <tr>\n",
       "      <th>2</th>\n",
       "      <td>5</td>\n",
       "      <td>16</td>\n",
       "      <td>1</td>\n",
       "      <td>6.25</td>\n",
       "    </tr>\n",
       "    <tr>\n",
       "      <th>3</th>\n",
       "      <td>6</td>\n",
       "      <td>11</td>\n",
       "      <td>1</td>\n",
       "      <td>9.09</td>\n",
       "    </tr>\n",
       "    <tr>\n",
       "      <th>4</th>\n",
       "      <td>7</td>\n",
       "      <td>3</td>\n",
       "      <td>1</td>\n",
       "      <td>33.33</td>\n",
       "    </tr>\n",
       "  </tbody>\n",
       "</table>\n",
       "</div>"
      ],
      "text/plain": [
       "   teacher_id  total_lessons  low_attendance_lessons  low_attendance_pct\n",
       "0           3             17                       6               35.29\n",
       "1           4             15                       5               33.33\n",
       "2           5             16                       1                6.25\n",
       "3           6             11                       1                9.09\n",
       "4           7              3                       1               33.33"
      ]
     },
     "execution_count": 63,
     "metadata": {},
     "output_type": "execute_result"
    }
   ],
   "source": [
    "teacher_attendance_stats"
   ]
  },
  {
   "cell_type": "code",
   "execution_count": 126,
   "id": "388fc2a5-caac-4064-89fd-64342c3d2802",
   "metadata": {},
   "outputs": [
    {
     "name": "stderr",
     "output_type": "stream",
     "text": [
      "/tmp/ipykernel_105354/2232319480.py:2: FutureWarning: \n",
      "\n",
      "Passing `palette` without assigning `hue` is deprecated and will be removed in v0.14.0. Assign the `x` variable to `hue` and set `legend=False` for the same effect.\n",
      "\n",
      "  sns.barplot(data=teacher_attendance_stats, x=\"teacher_id\", y=\"low_attendance_pct\", palette=\"Reds\")\n"
     ]
    },
    {
     "data": {
      "image/png": "[encoded data removed]",
      "text/plain": [
       "<Figure size 1000x500 with 1 Axes>"
      ]
     },
     "metadata": {},
     "output_type": "display_data"
    }
   ],
   "source": [
    "plt.figure(figsize=(10, 5))\n",
    "sns.barplot(data=teacher_attendance_stats, x=\"teacher_id\", y=\"low_attendance_pct\", palette=\"Reds\")\n",
    "plt.title(\"Доля занятий с низкой посещаемостью у преподавателей\")\n",
    "plt.xlabel(\"ID преподавателя\")\n",
    "plt.ylabel(\"Процент занятий с посещаемостью < 75%\")\n",
    "plt.show()"
   ]
  },
  {
   "cell_type": "code",
   "execution_count": 64,
   "id": "ccac900c-41d7-41c6-998d-25ee97dab59e",
   "metadata": {
    "jupyter": {
     "source_hidden": true
    }
   },
   "outputs": [],
   "source": [
    "teacher_attendance_stats.to_csv(\"teachers_stats.csv\")"
   ]
  },
  {
   "cell_type": "markdown",
   "id": "d8b17762-3e4b-45bd-aacf-00f73f530d05",
   "metadata": {},
   "source": [
    "### Также соберем статистику по ученикам"
   ]
  },
  {
   "cell_type": "code",
   "execution_count": 74,
   "id": "66d3b030-0063-46b4-97b4-04930ff1dac4",
   "metadata": {},
   "outputs": [],
   "source": [
    "# количество уроков на каждого ученика\n",
    "total_lessons_per_student = data.groupby(\"customer_id\")[\"event_id\"].nunique()\n",
    "\n",
    "# уроки, в которых ученик отсутвовал\n",
    "absent_lessons_per_student = data[data[\"is_attend\"] == 0].groupby(\"customer_id\")[\"event_id\"].nunique()\n",
    "\n",
    "student_attendance_stats = pd.DataFrame({\n",
    "    \"student_id\": total_lessons_per_student.index,\n",
    "    \"total_lessons\": total_lessons_per_student.values,\n",
    "    \"missed_lessons\": absent_lessons_per_student.reindex(total_lessons_per_student.index, fill_value=0).values,\n",
    "    \"attendance_pct\": ((total_lessons_per_student - absent_lessons_per_student) / total_lessons_per_student * 100).fillna(100).round(2).values\n",
    "})\n",
    "\n",
    "# студенты с худшей посещаемостью\n",
    "students_low_attendance = student_attendance_stats[student_attendance_stats[\"attendance_pct\"] < 75]"
   ]
  },
  {
   "cell_type": "code",
   "execution_count": 85,
   "id": "0e16ae5b-53f3-43da-9ce5-deab0dd6887a",
   "metadata": {},
   "outputs": [],
   "source": [
    "students_low_attendance_sort = students_low_attendance.sort_values(by=\"attendance_pct\")"
   ]
  },
  {
   "cell_type": "code",
   "execution_count": 86,
   "id": "9d9bd713-557a-4794-b7a6-2921e68266d8",
   "metadata": {},
   "outputs": [],
   "source": [
    "students_low_attendance_sort.to_csv(\"low_attend_students_stats.csv\")"
   ]
  },
  {
   "cell_type": "markdown",
   "id": "7163b89e-c749-4987-9b60-efb4c74dda0d",
   "metadata": {},
   "source": [
    "### Студенты с низкой посещаемостью"
   ]
  },
  {
   "cell_type": "code",
   "execution_count": 94,
   "id": "59f3c9a8-cb37-414c-9bd6-35380d291489",
   "metadata": {},
   "outputs": [
    {
     "data": {
      "text/html": [
       "<div>\n",
       "<style scoped>\n",
       "    .dataframe tbody tr th:only-of-type {\n",
       "        vertical-align: middle;\n",
       "    }\n",
       "\n",
       "    .dataframe tbody tr th {\n",
       "        vertical-align: top;\n",
       "    }\n",
       "\n",
       "    .dataframe thead th {\n",
       "        text-align: right;\n",
       "    }\n",
       "</style>\n",
       "<table border=\"1\" class=\"dataframe\">\n",
       "  <thead>\n",
       "    <tr style=\"text-align: right;\">\n",
       "      <th></th>\n",
       "      <th>student_id</th>\n",
       "      <th>total_lessons</th>\n",
       "      <th>missed_lessons</th>\n",
       "      <th>attendance_pct</th>\n",
       "    </tr>\n",
       "  </thead>\n",
       "  <tbody>\n",
       "    <tr>\n",
       "      <th>4</th>\n",
       "      <td>36</td>\n",
       "      <td>2</td>\n",
       "      <td>2</td>\n",
       "      <td>0.00</td>\n",
       "    </tr>\n",
       "    <tr>\n",
       "      <th>40</th>\n",
       "      <td>580</td>\n",
       "      <td>4</td>\n",
       "      <td>3</td>\n",
       "      <td>25.00</td>\n",
       "    </tr>\n",
       "    <tr>\n",
       "      <th>50</th>\n",
       "      <td>725</td>\n",
       "      <td>3</td>\n",
       "      <td>2</td>\n",
       "      <td>33.33</td>\n",
       "    </tr>\n",
       "    <tr>\n",
       "      <th>46</th>\n",
       "      <td>597</td>\n",
       "      <td>3</td>\n",
       "      <td>2</td>\n",
       "      <td>33.33</td>\n",
       "    </tr>\n",
       "    <tr>\n",
       "      <th>45</th>\n",
       "      <td>595</td>\n",
       "      <td>3</td>\n",
       "      <td>2</td>\n",
       "      <td>33.33</td>\n",
       "    </tr>\n",
       "    <tr>\n",
       "      <th>22</th>\n",
       "      <td>258</td>\n",
       "      <td>6</td>\n",
       "      <td>3</td>\n",
       "      <td>50.00</td>\n",
       "    </tr>\n",
       "    <tr>\n",
       "      <th>48</th>\n",
       "      <td>681</td>\n",
       "      <td>2</td>\n",
       "      <td>1</td>\n",
       "      <td>50.00</td>\n",
       "    </tr>\n",
       "    <tr>\n",
       "      <th>39</th>\n",
       "      <td>578</td>\n",
       "      <td>2</td>\n",
       "      <td>1</td>\n",
       "      <td>50.00</td>\n",
       "    </tr>\n",
       "    <tr>\n",
       "      <th>21</th>\n",
       "      <td>249</td>\n",
       "      <td>7</td>\n",
       "      <td>3</td>\n",
       "      <td>57.14</td>\n",
       "    </tr>\n",
       "    <tr>\n",
       "      <th>42</th>\n",
       "      <td>587</td>\n",
       "      <td>5</td>\n",
       "      <td>2</td>\n",
       "      <td>60.00</td>\n",
       "    </tr>\n",
       "    <tr>\n",
       "      <th>20</th>\n",
       "      <td>247</td>\n",
       "      <td>13</td>\n",
       "      <td>5</td>\n",
       "      <td>61.54</td>\n",
       "    </tr>\n",
       "    <tr>\n",
       "      <th>44</th>\n",
       "      <td>593</td>\n",
       "      <td>9</td>\n",
       "      <td>3</td>\n",
       "      <td>66.67</td>\n",
       "    </tr>\n",
       "    <tr>\n",
       "      <th>1</th>\n",
       "      <td>14</td>\n",
       "      <td>3</td>\n",
       "      <td>1</td>\n",
       "      <td>66.67</td>\n",
       "    </tr>\n",
       "    <tr>\n",
       "      <th>23</th>\n",
       "      <td>260</td>\n",
       "      <td>15</td>\n",
       "      <td>5</td>\n",
       "      <td>66.67</td>\n",
       "    </tr>\n",
       "    <tr>\n",
       "      <th>14</th>\n",
       "      <td>145</td>\n",
       "      <td>3</td>\n",
       "      <td>1</td>\n",
       "      <td>66.67</td>\n",
       "    </tr>\n",
       "    <tr>\n",
       "      <th>3</th>\n",
       "      <td>30</td>\n",
       "      <td>3</td>\n",
       "      <td>1</td>\n",
       "      <td>66.67</td>\n",
       "    </tr>\n",
       "    <tr>\n",
       "      <th>32</th>\n",
       "      <td>383</td>\n",
       "      <td>3</td>\n",
       "      <td>1</td>\n",
       "      <td>66.67</td>\n",
       "    </tr>\n",
       "    <tr>\n",
       "      <th>31</th>\n",
       "      <td>379</td>\n",
       "      <td>10</td>\n",
       "      <td>3</td>\n",
       "      <td>70.00</td>\n",
       "    </tr>\n",
       "  </tbody>\n",
       "</table>\n",
       "</div>"
      ],
      "text/plain": [
       "    student_id  total_lessons  missed_lessons  attendance_pct\n",
       "4           36              2               2            0.00\n",
       "40         580              4               3           25.00\n",
       "50         725              3               2           33.33\n",
       "46         597              3               2           33.33\n",
       "45         595              3               2           33.33\n",
       "22         258              6               3           50.00\n",
       "48         681              2               1           50.00\n",
       "39         578              2               1           50.00\n",
       "21         249              7               3           57.14\n",
       "42         587              5               2           60.00\n",
       "20         247             13               5           61.54\n",
       "44         593              9               3           66.67\n",
       "1           14              3               1           66.67\n",
       "23         260             15               5           66.67\n",
       "14         145              3               1           66.67\n",
       "3           30              3               1           66.67\n",
       "32         383              3               1           66.67\n",
       "31         379             10               3           70.00"
      ]
     },
     "execution_count": 94,
     "metadata": {},
     "output_type": "execute_result"
    }
   ],
   "source": [
    "students_low_attendance_sort"
   ]
  },
  {
   "cell_type": "code",
   "execution_count": 127,
   "id": "955e4f69-1ff8-4614-8e73-787772917f12",
   "metadata": {},
   "outputs": [
    {
     "data": {
      "image/png": "[encoded data removed]",
      "text/plain": [
       "<Figure size 1000x500 with 1 Axes>"
      ]
     },
     "metadata": {},
     "output_type": "display_data"
    }
   ],
   "source": [
    "plt.figure(figsize=(10, 5))\n",
    "sns.histplot(student_attendance_stats[\"attendance_pct\"], bins=10, kde=True, color=\"blue\")\n",
    "plt.title(\"Распределение посещаемости среди учеников\")\n",
    "plt.xlabel(\"Процент посещаемости\")\n",
    "plt.ylabel(\"Количество учеников\")\n",
    "plt.show()"
   ]
  },
  {
   "cell_type": "markdown",
   "id": "d46cc888-51ab-4525-bb8f-97c26644f13d",
   "metadata": {},
   "source": [
    "### Проанализируем распределение посещаемости по дням недели"
   ]
  },
  {
   "cell_type": "code",
   "execution_count": 114,
   "id": "25c45960-307b-42a4-828b-b2ee1eb712dd",
   "metadata": {},
   "outputs": [],
   "source": [
    "data[\"event_date\"] = pd.to_datetime(data[\"event_date\"])\n",
    "data[\"weekday\"] = data[\"event_date\"].dt.day_name()"
   ]
  },
  {
   "cell_type": "code",
   "execution_count": 115,
   "id": "a5444fb5-1ee4-4570-a623-f32e88f581ad",
   "metadata": {},
   "outputs": [],
   "source": [
    "# Посещаемость по дням недели\n",
    "attendance_by_weekday = data[data[\"is_attend\"] == 1].groupby(\"weekday\")[\"customer_id\"].count().reset_index()\n",
    "attendance_by_weekday.columns = [\"weekday\", \"attendance_count\"]"
   ]
  },
  {
   "cell_type": "code",
   "execution_count": 116,
   "id": "367d8215-bf09-4b87-a76d-7b6ff3b4da4d",
   "metadata": {},
   "outputs": [],
   "source": [
    "weekday_translation = {\n",
    "    \"Monday\": \"Понедельник\",\n",
    "    \"Tuesday\": \"Вторник\",\n",
    "    \"Wednesday\": \"Среда\",\n",
    "    \"Thursday\": \"Четверг\",\n",
    "    \"Friday\": \"Пятница\",\n",
    "    \"Saturday\": \"Суббота\",\n",
    "    \"Sunday\": \"Воскресенье\"\n",
    "}\n",
    "\n",
    "attendance_by_weekday[\"weekday\"] = attendance_by_weekday[\"weekday\"].map(weekday_translation)\n",
    "\n",
    "weekday_order_russian = [\"Понедельник\", \"Вторник\", \"Среда\", \"Четверг\", \"Пятница\", \"Суббота\"]\n",
    "attendance_by_weekday[\"weekday\"] = pd.Categorical(attendance_by_weekday[\"weekday\"], categories=weekday_order_russian, ordered=True)\n",
    "attendance_by_weekday = attendance_by_weekday.sort_values(\"weekday\")"
   ]
  },
  {
   "cell_type": "code",
   "execution_count": 118,
   "id": "d26fb440-e881-42c7-8b9e-98b1606d355e",
   "metadata": {},
   "outputs": [
    {
     "name": "stderr",
     "output_type": "stream",
     "text": [
      "/tmp/ipykernel_105354/2526013809.py:2: FutureWarning: \n",
      "\n",
      "Passing `palette` without assigning `hue` is deprecated and will be removed in v0.14.0. Assign the `x` variable to `hue` and set `legend=False` for the same effect.\n",
      "\n",
      "  sns.barplot(data=attendance_by_weekday, x=\"weekday\", y=\"attendance_count\", palette=\"Blues\")\n"
     ]
    },
    {
     "data": {
      "image/png": "[encoded data removed]",
      "text/plain": [
       "<Figure size 1000x500 with 1 Axes>"
      ]
     },
     "metadata": {},
     "output_type": "display_data"
    }
   ],
   "source": [
    "plt.figure(figsize=(10, 5))\n",
    "sns.barplot(data=attendance_by_weekday, x=\"weekday\", y=\"attendance_count\", palette=\"Blues\")\n",
    "plt.title(\"Посещаемость тренировок по дням недели\")\n",
    "plt.xlabel(\"День недели\")\n",
    "plt.ylabel(\"Количество студентов\")\n",
    "plt.xticks(rotation=45)\n",
    "plt.show()"
   ]
  },
  {
   "cell_type": "code",
   "execution_count": 119,
   "id": "c2c7bfc5-78af-4b22-abfe-3944c05fba16",
   "metadata": {},
   "outputs": [
    {
     "data": {
      "text/html": [
       "<div>\n",
       "<style scoped>\n",
       "    .dataframe tbody tr th:only-of-type {\n",
       "        vertical-align: middle;\n",
       "    }\n",
       "\n",
       "    .dataframe tbody tr th {\n",
       "        vertical-align: top;\n",
       "    }\n",
       "\n",
       "    .dataframe thead th {\n",
       "        text-align: right;\n",
       "    }\n",
       "</style>\n",
       "<table border=\"1\" class=\"dataframe\">\n",
       "  <thead>\n",
       "    <tr style=\"text-align: right;\">\n",
       "      <th></th>\n",
       "      <th>weekday</th>\n",
       "      <th>attendance_count</th>\n",
       "    </tr>\n",
       "  </thead>\n",
       "  <tbody>\n",
       "    <tr>\n",
       "      <th>1</th>\n",
       "      <td>Понедельник</td>\n",
       "      <td>7</td>\n",
       "    </tr>\n",
       "    <tr>\n",
       "      <th>4</th>\n",
       "      <td>Вторник</td>\n",
       "      <td>37</td>\n",
       "    </tr>\n",
       "    <tr>\n",
       "      <th>5</th>\n",
       "      <td>Среда</td>\n",
       "      <td>77</td>\n",
       "    </tr>\n",
       "    <tr>\n",
       "      <th>3</th>\n",
       "      <td>Четверг</td>\n",
       "      <td>53</td>\n",
       "    </tr>\n",
       "    <tr>\n",
       "      <th>0</th>\n",
       "      <td>Пятница</td>\n",
       "      <td>69</td>\n",
       "    </tr>\n",
       "    <tr>\n",
       "      <th>2</th>\n",
       "      <td>Суббота</td>\n",
       "      <td>21</td>\n",
       "    </tr>\n",
       "  </tbody>\n",
       "</table>\n",
       "</div>"
      ],
      "text/plain": [
       "       weekday  attendance_count\n",
       "1  Понедельник                 7\n",
       "4      Вторник                37\n",
       "5        Среда                77\n",
       "3      Четверг                53\n",
       "0      Пятница                69\n",
       "2      Суббота                21"
      ]
     },
     "execution_count": 119,
     "metadata": {},
     "output_type": "execute_result"
    }
   ],
   "source": [
    "attendance_by_weekday"
   ]
  }
 ],
 "metadata": {
  "kernelspec": {
   "display_name": "Python 3 (ipykernel)",
   "language": "python",
   "name": "python3"
  },
  "language_info": {
   "codemirror_mode": {
    "name": "ipython",
    "version": 3
   },
   "file_extension": ".py",
   "mimetype": "text/x-python",
   "name": "python",
   "nbconvert_exporter": "python",
   "pygments_lexer": "ipython3",
   "version": "3.12.2"
  }
 },
 "nbformat": 4,
 "nbformat_minor": 5
}
